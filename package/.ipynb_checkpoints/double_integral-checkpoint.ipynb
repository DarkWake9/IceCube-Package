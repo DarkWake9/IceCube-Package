{
 "cells": [
  {
   "cell_type": "code",
   "execution_count": 37,
   "metadata": {},
   "outputs": [],
   "source": [
    "# from core import readfiles\n",
    "import numpy as np\n",
    "import os\n",
    "import multiprocessing as mul\n",
    "import matplotlib.pyplot as plt\n",
    "from numba import jit, njit, prange, set_num_threads, vectorize, guvectorize, cuda, float64, int64\n",
    "from tqdm import tqdm\n",
    "from core.signal_bag import *\n",
    "from core.stacking_analysis import *\n",
    "from core.req_arrays import *\n",
    "import pickle\n",
    "import scipy.stats as st\n",
    "import scipy.interpolate as interp\n",
    "from scipy import integrate as scint\n",
    "# import torch\n",
    "# from core import weights"
   ]
  },
  {
   "cell_type": "code",
   "execution_count": 54,
   "metadata": {},
   "outputs": [],
   "source": [
    "num_threads = int(mul.cpu_count()*0.8)\n",
    "set_num_threads(num_threads)\n",
    "\n",
    "# UNCOMMENT FOR LINEAR BINS\n",
    "# all_enu = np.linspace(10**11.001, 10**18.999, 1000)\n",
    "all_enu = e_nu_wall\n",
    "\n",
    "master_nbins = int(1e6)\n",
    "# enus = 0.5*(all_enu[1:]+all_enu[:-1])\n",
    "# UNCOMMENT FOR DENSER LOGARITHMIC BINS, optimal nbins is 1e6\n",
    "enus = np.float64(np.logspace(11.001, 18.999, master_nbins))\n",
    "\n",
    "decl_bins=master_nbins//1000\n",
    "decls = np.rad2deg(np.linspace(-np.pi/2, np.pi/2 - 1e-40, decl_bins))\n",
    "\n",
    "\n",
    "enus_bin_indices = np.zeros(len(enus), dtype=np.int64)\n",
    "\n",
    "for i in prange(len(enus)):\n",
    "    enus_bin_indices[i] = np.digitize(enus[i], e_nu_wall) - 1\n",
    "    \n",
    "    \n",
    "decls_bin_indices = np.zeros(len(decls), dtype=np.int64)\n",
    "\n",
    "for i in prange(decl_bins):\n",
    "    decls_bin_indices[i] = np.digitize(decls[i], dec_nu) - 1\n",
    "\n",
    "decls_bin_indices[-1] -= 1\n",
    "\n",
    "decls = np.deg2rad(decls)\n",
    "\n",
    "msdec_bin_indices = np.zeros(p, dtype=np.int64)\n",
    "for i in prange(p):\n",
    "    msdec_bin_indices[i] = np.digitize(msdec[i], dec_nu) - 1\n"
   ]
  },
  {
   "cell_type": "code",
   "execution_count": 7,
   "metadata": {},
   "outputs": [
    {
     "data": {
      "text/plain": [
       "array([1, 2, 3])"
      ]
     },
     "execution_count": 7,
     "metadata": {},
     "output_type": "execute_result"
    }
   ],
   "source": [
    "np.digitize(np.array([0, 1, 2]), np.linspace(0, 11, 12))"
   ]
  },
  {
   "cell_type": "code",
   "execution_count": 43,
   "metadata": {},
   "outputs": [],
   "source": [
    "# @vectorize(['float64(int64, int64, float64)'], nopython=True, target='parallel')\n",
    "# @vectorize([float64(int64, int64, float64)], nopython=True, target='parallel')\n",
    "@njit(parallel=True)\n",
    "def ns_newhat(decl_index, season, gamma):\n",
    "    temp = dfde(enus, gamma, 1e-20) * enus * np.cos(decls[decl_index])\n",
    "    temp2 = earea[ea_season(season)][(decls_bin_indices[decl_index] * 40 + enus_bin_indices).astype(np.int64)].astype(np.float64)\n",
    "    temp = temp * temp2\n",
    "    return np.trapz(temp, enus)\n"
   ]
  },
  {
   "cell_type": "code",
   "execution_count": 50,
   "metadata": {},
   "outputs": [],
   "source": [
    "gamma_arr = [-2, -2.2, -2.53, -3]"
   ]
  },
  {
   "cell_type": "code",
   "execution_count": 51,
   "metadata": {},
   "outputs": [],
   "source": [
    "# @njit(parallel=True)\n",
    "\n",
    "ns_spl = []\n",
    "for gamma in gamma_arr:\n",
    "    ns_s_g = 0\n",
    "    for season in prange(10):\n",
    "        temp = np.zeros(decl_bins)\n",
    "        @njit\n",
    "        def ns_sing_gamma(decl_idx):\n",
    "            return ns_newhat(decl_idx, season, gamma)\n",
    "\n",
    "        pool = mul.Pool(50)\n",
    "        op_async = pool.map_async(ns_sing_gamma, prange(decl_bins))\n",
    "        temp = np.array(op_async.get())\n",
    "        pool.close()\n",
    "        pool.join()\n",
    "        pool = []\n",
    "        op_async = []\n",
    "        ns_s_g += np.trapz(temp, decls)\n",
    "        \n",
    "    ns_spl.append(ns_s_g)\n",
    "\n",
    "    "
   ]
  },
  {
   "cell_type": "code",
   "execution_count": 76,
   "metadata": {},
   "outputs": [
    {
     "name": "stdout",
     "output_type": "stream",
     "text": [
      "Calculated all_ns_HAT_spl\n"
     ]
    }
   ],
   "source": [
    "ns_spl = np.asfarray(ns_spl)\n",
    "with open(altier_path[0] + f'all_ns_HAT_spl.pkl', 'wb') as f:\n",
    "    pickle.dump(ns_spl, f)\n",
    "    print(\"Calculated all_ns_HAT_spl\")\n",
    "ns_spl\n",
    "\n",
    "with open(altier_path[0] + f'all_ns_HAT_spl.pkl', 'rb') as f:\n",
    "    arr = pickle.load(f)\n"
   ]
  },
  {
   "cell_type": "code",
   "execution_count": 77,
   "metadata": {},
   "outputs": [
    {
     "data": {
      "text/plain": [
       "array([1.77535186e+17, 4.76624629e+16, 1.00330829e+16, 5.77175502e+15])"
      ]
     },
     "execution_count": 77,
     "metadata": {},
     "output_type": "execute_result"
    }
   ],
   "source": [
    "arr\n"
   ]
  },
  {
   "cell_type": "code",
   "execution_count": 55,
   "metadata": {},
   "outputs": [],
   "source": [
    "@vectorize(['float64(int64, float64, int64)'], nopython=True, target='parallel')\n",
    "def psr_wt_sing_gamma(psrno,gamma, season):\n",
    "\n",
    "    tt_upt = t_upt[season]\n",
    "    l = msdec_bin_indices[psrno]\n",
    "    wt_ac_temp = np.zeros(len(enus), dtype=np.float64)\n",
    "    for i in prange(len(enus)):\n",
    "        wt_ac_temp[i] = np.float64(tt_upt * earea[ea_season(season)][l*40 + enus_bin_indices[i]] * enus[i]**gamma)\n",
    "\n",
    "\n",
    "    return np.trapz(wt_ac_temp, enus)\n"
   ]
  },
  {
   "cell_type": "markdown",
   "metadata": {},
   "source": [
    "wt_vec = psr_wt_sing_gamma(range(p), -1, 0)"
   ]
  },
  {
   "cell_type": "code",
   "execution_count": 56,
   "metadata": {},
   "outputs": [],
   "source": [
    "w_models = np.column_stack([np.ones(p), 1/(msdist**2), mss1400]).T.astype(np.float64)\n",
    "sum_wt_model = [1, np.sum(1/(msdist**2)), np.sum(mss1400)]"
   ]
  },
  {
   "cell_type": "code",
   "execution_count": 57,
   "metadata": {},
   "outputs": [
    {
     "name": "stdout",
     "output_type": "stream",
     "text": [
      "Loading wt_acc from pickle\n",
      "Loaded wt_acc from pickle with nbins=  1000000\n"
     ]
    }
   ],
   "source": [
    "altier_path = [os.getcwd() + '/pickle/', os.getcwd() + '/../pickle/']\n",
    "if f'wt_acc_{len(enus)}_bins.pkl' in os.listdir(altier_path[0]):# or f'wt_acc.pkl_{len(enus)}' in os.listdir(altier_path[1]):\n",
    "    print(\"Loading wt_acc from pickle\")\n",
    "    # try:\n",
    "    #     wt_acc = pickle.load(altier_path[1] + f'wt_acc.pkl_{len(enus)//2}_bins')\n",
    "    # except:\n",
    "    with open(altier_path[0] + f'wt_acc_{len(enus)}_bins.pkl', 'rb') as f:\n",
    "        wt_acc = pickle.load(f)\n",
    "    \n",
    "    \n",
    "    print(\"Loaded wt_acc from pickle with nbins= \", len(enus))\n",
    "\n",
    "else:\n",
    "    print(\"Calculating wt_acc for all pulsars and seasons and gamma\")\n",
    "    wt_acc = []\n",
    "    for gamma in prange(len(gamma_arr)):\n",
    "        wt_allpsr = []\n",
    "        for season in tqdm(prange(10)):\n",
    "            # tmp = []\n",
    "            # for psrno in prange(p):\n",
    "                # w_model = w_models[psrno]\n",
    "                # tmp.append(psr_wt_sing_gamma(psrno, gamma_arr[gamma], season))\n",
    "                # tmp.append(trapz_numba(psr_wt_sing_e_gamma(psrno, enus, gamma_arr[gamma], season), enus))\n",
    "\n",
    "            wt_allpsr.append(np.array(psr_wt_sing_gamma(prange(p), gamma_arr[gamma], season), dtype=np.float64))\n",
    "            # tmp = []\n",
    "        wt_acc.append(wt_allpsr)\n",
    "        wt_allpsr = []\n",
    "        \n",
    "    wt_acc = np.asfarray(wt_acc, dtype=np.float64)\n",
    "    with open(altier_path[0] + f'wt_acc_{len(enus)}_bins.pkl', 'wb') as f:\n",
    "        pickle.dump(wt_acc, f)\n",
    "    print(\"Calculated wt_acc for all pulsars and seasons and gamma\")"
   ]
  },
  {
   "cell_type": "code",
   "execution_count": 58,
   "metadata": {},
   "outputs": [],
   "source": [
    "season_walls = np.asarray([0, 36900, 143911, 237044, 373288, 486146, 608687, 735732, 865043, 988700, 1134450])\n",
    "season_widts= np.diff(season_walls)"
   ]
  },
  {
   "cell_type": "code",
   "execution_count": 59,
   "metadata": {},
   "outputs": [],
   "source": [
    "#Compute the signal PDF for all neutrinos as per eqns 6, 7 and weights as per eqn 8 of 2205.15963\n",
    "\n",
    "@njit(nogil=True)\n",
    "def S_ijk(nu): \n",
    "\n",
    "    '''\n",
    "    Calculates S_ij as in EQN 7 of 2205.15963\n",
    "    ----------\n",
    "\n",
    "    Parameters\n",
    "    ----------\n",
    "    nu : int\n",
    "        Index of the neutrino in the sample\n",
    "        \n",
    "    \n",
    "    Returns\n",
    "    -------\n",
    "        Returns the signal PDF for the {psrno}th pulsar and nuind_inp neutrino\n",
    "    '''\n",
    "    ang2 = hvovec(msra, msdec, icra[nu], icdec[nu], rad=True) ** 2      #rad**2\n",
    "    sg = np.deg2rad(icang[nu]) ** 2                                     #rad**2\n",
    "    return np.divide(np.exp(-1 * np.divide(ang2, 2*sg)), (2 * np.pi * sg))      #1/rad**2\n",
    "\n",
    "\n",
    "@njit(nogil=True)\n",
    "def S_ik(nu, weight, w_models, gamma_index, ws):\n",
    "\n",
    "    '''\n",
    "    \n",
    "    Calculates S_i as in EQN 8 of 2205.15963\n",
    "    ----------\n",
    "\n",
    "    Parameters\n",
    "    ----------\n",
    "    nu : int\n",
    "        Index of the neutrino in the sample\n",
    "\n",
    "    normalized_wt : array\n",
    "        Normalized weights of the pulsars\n",
    "\n",
    "\n",
    "    gamma_index : int\n",
    "        Index of the gamma value in the gamma array\n",
    "\n",
    "    ws : int\n",
    "        Index of the weight model\n",
    "\n",
    "    Returns\n",
    "    -------\n",
    "        Returns the signal PDF for the {psrno}th pulsar and nuind_inp neutrino\n",
    "\n",
    "    '''\n",
    "\n",
    "    # si_sing_season_g =\n",
    "    # for i in prange(p):\n",
    "        # sij = S_ijk(nu)\n",
    "        # np.sum(np.multiply(sij, normalized_wt[i][gamma_index][season]))      #1/rad**2\n",
    "\n",
    "\n",
    "\n",
    "    sij = S_ijk(nu)\n",
    "    season = 0\n",
    "    for i in range(10):\n",
    "        if season_walls[i] <= nu and nu < season_walls[i+1]:\n",
    "            season = i\n",
    "            break\n",
    "\n",
    "    return np.sum(np.multiply(sij, np.multiply(w_models[ws], weight[gamma_index][season])/np.sum(np.multiply(w_models[ws], weight[gamma_index][season]))))      #1/rad**2\n"
   ]
  },
  {
   "cell_type": "code",
   "execution_count": 60,
   "metadata": {},
   "outputs": [],
   "source": [
    "@njit(parallel=True, nogil=True)\n",
    "def Sik_sing_s_g(gamma_index, ws):#, wt_acc=wt_acc, w_models=w_models):\n",
    "    '''\n",
    "    Calculates S_i as in EQN 8 of 2205.15963\n",
    "    ----------\n",
    "\n",
    "    Parameters\n",
    "    ----------\n",
    "    weight : array\n",
    "         weights of the pulsars\n",
    "\n",
    "    season : int\n",
    "        Season of the neutrino\n",
    "\n",
    "    gamma_index : int\n",
    "        Index of the gamma value in the gamma array\n",
    "\n",
    "    ws : int\n",
    "        Index of the weight model\n",
    "\n",
    "    Returns\n",
    "    -------\n",
    "        Returns the signal PDF for the {psrno}th pulsar and nuind_inp neutrino\n",
    "    '''\n",
    "\n",
    "\n",
    "\n",
    "    tmp = []\n",
    "    if ws == -1: #No weights\n",
    "        for nu in prange(len(icra)):\n",
    "            tmp.append(np.sum(S_ijk(nu)))\n",
    "        return np.array(tmp, dtype=np.float64)\n",
    "\n",
    "    for nu in prange(len(icra)):\n",
    "        tmp.append(S_ik(nu, wt_acc, w_models, gamma_index, ws))\n",
    "    return np.array(tmp, dtype=np.float64)"
   ]
  },
  {
   "cell_type": "code",
   "execution_count": 61,
   "metadata": {},
   "outputs": [
    {
     "name": "stdout",
     "output_type": "stream",
     "text": [
      "Loading all_Si_ws_g_s from pickle\n",
      "Loaded all_Si_ws_g_s from pickle with nbins = 1000000\n"
     ]
    }
   ],
   "source": [
    "#Pickle\n",
    "if os.path.isfile(altier_path[0] + f'all_Si_ws_g_s_{len(enus)}_bins.pkl'):\n",
    "    print(\"Loading all_Si_ws_g_s from pickle\")\n",
    "    with open(altier_path[0] + f'all_Si_ws_g_s_{len(enus)}_bins.pkl', 'rb') as f:\n",
    "        all_Si_ws_g_s = pickle.load(f)\n",
    "    print(\"Loaded all_Si_ws_g_s from pickle with nbins =\", len(enus))\n",
    "else:\n",
    "\n",
    "\n",
    "    print(\"\\nCalculating S_i for all neutrinos and gammas and weighting schemes...\\n\")\n",
    "\n",
    "    all_Si_ws_g_s = []\n",
    "    tmp = []\n",
    "    tmp_wt_acc = []\n",
    "    tmp_wt_acc_w_dist = []\n",
    "    tmp_wt_acc_w_s1400 = []\n",
    "\n",
    "    for gamma_index in tqdm(prange(4)):\n",
    "        # for season in tqdm(prange(10)):\n",
    "        tmp.append(Sik_sing_s_g(gamma_index, -1))\n",
    "        tmp_wt_acc.append(Sik_sing_s_g(gamma_index, 0))\n",
    "        tmp_wt_acc_w_dist.append(Sik_sing_s_g(gamma_index, 1))\n",
    "        tmp_wt_acc_w_s1400.append(Sik_sing_s_g(gamma_index, 2))\n",
    "\n",
    "\n",
    "    all_Si_ws_g_s.append([tmp, tmp_wt_acc, tmp_wt_acc_w_dist, tmp_wt_acc_w_s1400])\n",
    "    tmp = []\n",
    "    tmp_wt_acc = []\n",
    "    tmp_wt_acc_w_dist = []\n",
    "    tmp_wt_acc_w_s1400 = []\n",
    "    all_Si_ws_g_s = np.asfarray(all_Si_ws_g_s[0])\n",
    "\n",
    "    print(\"Calculated S_i for all neutrinos and gammas and weighting schemes\")\n",
    "    #Save to pickle\n",
    "    with open(altier_path[0] + f'all_Si_ws_g_s_{len(enus)}_bins.pkl', 'wb') as f:\n",
    "        pickle.dump(all_Si_ws_g_s, f)\n",
    "\n"
   ]
  },
  {
   "cell_type": "code",
   "execution_count": 62,
   "metadata": {},
   "outputs": [],
   "source": [
    "# @jit(nopython=True)\n",
    "@vectorize(['float64(int64, int64)'], nopython=True,target='parallel')\n",
    "def Bi_stacked_compute(nu, cone=5):\n",
    "\n",
    "    '''\n",
    "    Calculates B_i as in EQN 9 of 2205.15963\n",
    "    ----------\n",
    "\n",
    "    Parameters\n",
    "    ----------\n",
    "    nu : int\n",
    "        Index of the neutrino from IceCube sample\n",
    "    cone : float\n",
    "        Cone angle in degrees.\n",
    "    \n",
    "\n",
    "    Returns\n",
    "    -------\n",
    "    float\n",
    "        Returns the background PDF for the {nu}th neutrino\n",
    "    '''\n",
    "\n",
    "    # count = np.sum(np.abs(np.subtract(icdec, icdec[nu])) <= cone)\n",
    "    count=0\n",
    "    for i in prange(len(icdec)):\n",
    "        if abs(icdec[i] - icdec[nu]) <= cone:\n",
    "            count+=1\n",
    "    binwidth = (np.sin(np.deg2rad(icdec[nu] + cone)) - np.sin(np.deg2rad(icdec[nu] - cone)))*2*np.pi\n",
    "    return count/(binwidth * N_ic)           #No units or sr**-1"
   ]
  },
  {
   "cell_type": "code",
   "execution_count": 63,
   "metadata": {},
   "outputs": [
    {
     "name": "stdout",
     "output_type": "stream",
     "text": [
      "Loading all_Bi from pickle...\n",
      "Loaded all_Bi from pickle\n"
     ]
    }
   ],
   "source": [
    "#Pickle\n",
    "if os.path.isfile(altier_path[0] + f'all_Bi.pkl'):\n",
    "    print(\"Loading all_Bi from pickle...\")\n",
    "    with open(altier_path[0] + f'all_Bi.pkl', 'rb') as f:\n",
    "        all_Bi = pickle.load(f)\n",
    "    print(\"Loaded all_Bi from pickle\")\n",
    "else:\n",
    "    print(\"\\nCalculating Bi for all neutrinos\\n\")\n",
    "    all_Bi = Bi_stacked_compute(np.arange(lnu), 5)\n",
    "    # all_Bi+=1e-90\n",
    "    print(\"\\nCalculated Bi for all neutrinos\")\n",
    "    #Save to pickle\n",
    "    with open(altier_path[0] + f'all_Bi.pkl', 'wb') as f:\n",
    "        pickle.dump(all_Bi, f)"
   ]
  },
  {
   "cell_type": "code",
   "execution_count": 64,
   "metadata": {},
   "outputs": [],
   "source": [
    "@jit(nopython=True)\n",
    "def Pr(x, Ns, S, B):\n",
    "    nsN = x/Ns\n",
    "    return np.add(np.multiply(nsN , S), np.multiply(np.subtract(1, nsN), B))\n",
    "\n",
    "\n",
    "\n",
    "@njit(nogil=True)\n",
    "def TS_st_vec(x, S, B, Ns):\n",
    "    nsN = x/Ns\n",
    "    pr = np.add(np.multiply(nsN , S), np.multiply(np.subtract(1, nsN), B))\n",
    "    return np.sum(np.asfarray(2*np.log(pr/B)))\n",
    "\n",
    "lnu = 1134450\n",
    "Ns = lnu#np.count_nonzero(nuind+1)\n"
   ]
  },
  {
   "cell_type": "markdown",
   "metadata": {},
   "source": [
    "TS_st_vec(0.5e6, all_Si_ws_g_s[0][0], all_Bi, Ns)"
   ]
  },
  {
   "cell_type": "code",
   "execution_count": 65,
   "metadata": {},
   "outputs": [],
   "source": [
    "phio = np.logspace(-38, -26, 1000)"
   ]
  },
  {
   "cell_type": "code",
   "execution_count": 78,
   "metadata": {},
   "outputs": [
    {
     "name": "stderr",
     "output_type": "stream",
     "text": [
      "  0%|          | 0/1000 [00:00<?, ?it/s]"
     ]
    },
    {
     "name": "stdout",
     "output_type": "stream",
     "text": [
      "\n",
      "CALCULATING TS FOR ALL PSRS FOR ALL GAMMAS FOR ALL WEIGHTS\n",
      "\n",
      "ws = 0\n",
      "gamma = 0\n"
     ]
    },
    {
     "name": "stderr",
     "output_type": "stream",
     "text": [
      "\n"
     ]
    },
    {
     "ename": "IndexError",
     "evalue": "invalid index to scalar variable.",
     "output_type": "error",
     "traceback": [
      "\u001b[0;31m---------------------------------------------------------------------------\u001b[0m",
      "\u001b[0;31mIndexError\u001b[0m                                Traceback (most recent call last)",
      "\u001b[0;32m<ipython-input-78-d491e5a022f4>\u001b[0m in \u001b[0;36m<module>\u001b[0;34m\u001b[0m\n\u001b[1;32m     15\u001b[0m         \u001b[0mtemp\u001b[0m \u001b[0;34m=\u001b[0m \u001b[0;34m[\u001b[0m\u001b[0;34m]\u001b[0m\u001b[0;34m\u001b[0m\u001b[0m\n\u001b[1;32m     16\u001b[0m         \u001b[0;32mfor\u001b[0m \u001b[0mphi\u001b[0m \u001b[0;32min\u001b[0m \u001b[0mtqdm\u001b[0m\u001b[0;34m(\u001b[0m\u001b[0mprange\u001b[0m\u001b[0;34m(\u001b[0m\u001b[0mlen\u001b[0m\u001b[0;34m(\u001b[0m\u001b[0mphio\u001b[0m\u001b[0;34m)\u001b[0m\u001b[0;34m)\u001b[0m\u001b[0;34m)\u001b[0m\u001b[0;34m:\u001b[0m\u001b[0;34m\u001b[0m\u001b[0m\n\u001b[0;32m---> 17\u001b[0;31m             \u001b[0mtemp\u001b[0m\u001b[0;34m.\u001b[0m\u001b[0mappend\u001b[0m\u001b[0;34m(\u001b[0m\u001b[0mTS_for_all_psrs2\u001b[0m\u001b[0;34m(\u001b[0m\u001b[0marr\u001b[0m\u001b[0;34m[\u001b[0m\u001b[0mgamma\u001b[0m\u001b[0;34m]\u001b[0m\u001b[0;34m[\u001b[0m\u001b[0mws\u001b[0m\u001b[0;34m]\u001b[0m\u001b[0;34m*\u001b[0m\u001b[0mphio\u001b[0m\u001b[0;34m[\u001b[0m\u001b[0mphi\u001b[0m\u001b[0;34m]\u001b[0m\u001b[0;34m)\u001b[0m\u001b[0;34m)\u001b[0m\u001b[0;34m\u001b[0m\u001b[0m\n\u001b[0m\u001b[1;32m     18\u001b[0m         \u001b[0mtmpp\u001b[0m\u001b[0;34m.\u001b[0m\u001b[0mappend\u001b[0m\u001b[0;34m(\u001b[0m\u001b[0mtemp\u001b[0m\u001b[0;34m)\u001b[0m\u001b[0;34m\u001b[0m\u001b[0m\n\u001b[1;32m     19\u001b[0m         \u001b[0mtemp\u001b[0m \u001b[0;34m=\u001b[0m \u001b[0;34m[\u001b[0m\u001b[0;34m]\u001b[0m\u001b[0;34m\u001b[0m\u001b[0m\n",
      "\u001b[0;31mIndexError\u001b[0m: invalid index to scalar variable."
     ]
    }
   ],
   "source": [
    "print('\\nCALCULATING TS FOR ALL PSRS FOR ALL GAMMAS FOR ALL WEIGHTS\\n')\n",
    "\n",
    "all_TSS = []\n",
    "for ws in prange(4):\n",
    "    tmpp = []\n",
    "    print(\"ws = {}\".format(ws))\n",
    "    for gamma in prange(len(gamma_arr)):\n",
    "        print(\"gamma = {}\".format(gamma))\n",
    "        # tmp = np.zeros(len(phio))\n",
    "        # for season in tqdm(range(10)):\n",
    "        t2mp = np.asfarray(all_Si_ws_g_s[ws][gamma])\n",
    "        @njit(nogil=True)\n",
    "        def TS_for_all_psrs2(nsa):  \n",
    "            return TS_st_vec(nsa, t2mp, all_Bi, Ns)      #No units\n",
    "        temp = []\n",
    "        for phi in tqdm(prange(len(phio))):\n",
    "            temp.append(TS_for_all_psrs2(arr[gamma]*phio[phi]))\n",
    "        tmpp.append(temp)\n",
    "        temp = []\n",
    "    all_TSS.append(tmpp)\n",
    "    tmpp = []\n",
    "\n",
    "print('\\nCALCULATED TS FOR ALL PSRS FOR ALL GAMMAS FOR ALL WEIGHTS')"
   ]
  },
  {
   "cell_type": "code",
   "execution_count": null,
   "metadata": {},
   "outputs": [],
   "source": []
  }
 ],
 "metadata": {
  "kernelspec": {
   "display_name": "Python 3",
   "language": "python",
   "name": "python3"
  },
  "language_info": {
   "codemirror_mode": {
    "name": "ipython",
    "version": 3
   },
   "file_extension": ".py",
   "mimetype": "text/x-python",
   "name": "python",
   "nbconvert_exporter": "python",
   "pygments_lexer": "ipython3",
   "version": "3.6.3"
  }
 },
 "nbformat": 4,
 "nbformat_minor": 4
}
