{
 "cells": [
  {
   "cell_type": "code",
   "execution_count": 1,
   "metadata": {},
   "outputs": [
    {
     "name": "stdout",
     "output_type": "stream",
     "text": [
      "read icdata\n",
      "read uptdata\n",
      "read eadata\n",
      "read mspdata\n"
     ]
    }
   ],
   "source": [
    "import numpy as np\n",
    "import os\n",
    "import multiprocessing as mul\n",
    "import matplotlib.pyplot as plt\n",
    "from numba import jit, njit, prange, set_num_threads, vectorize, guvectorize, cuda\n",
    "from tqdm import tqdm\n",
    "import shutil\n",
    "\n",
    "shutil.copytree(\"./o_data/icecube_10year_ps/events/\", \"./data/icecube_10year_ps/events/\", dirs_exist_ok=True)\n",
    "\n",
    "from core.signal_bag import *\n",
    "from core.stacking_analysis import *\n",
    "from core.req_arrays import *\n",
    "import pandas as pd\n",
    "import pickle\n",
    "import scipy.stats as st\n",
    "import scipy.interpolate as interp"
   ]
  },
  {
   "cell_type": "markdown",
   "metadata": {},
   "source": [
    "### GENERATING SYNTHETIC ICECUBE"
   ]
  },
  {
   "cell_type": "markdown",
   "metadata": {},
   "source": [
    "# Angerr\n",
    "\n",
    "smear = pd.read_csv('data/icecube_10year_ps/irfs/IC59_smearing.csv', sep='\\s+', skiprows=1, names='log10(E_nu/GeV)_min\tlog10(E_nu/GeV)_max\tDec_nu_min[deg]\tDec_nu_max[deg]\tlog10(E/GeV)_min\tlog10(E/GeV)_max\tPSF_min[deg]\tPSF_max[deg]\tAngErr_min[deg]\tAngErr_max[deg]\tFractional_Counts'.split('\\t'))\n",
    "\n",
    "loge_bins_smeared = np.linspace(2, 9, 15)\n",
    "decl_bins_smeared = np.array([-90, -10, 10, 90], dtype=np.float64)\n",
    "\n",
    "\n",
    "angerr_smear_max_DICT = {}\n",
    "angerr_smear_min_DICT = {}\n",
    "\n",
    "for i in loge_bins_smeared[:-1]:\n",
    "    angerr_smear_max = []\n",
    "    angerr_smear_min = []\n",
    "        \n",
    "    for j in decl_bins_smeared[:-1]:\n",
    "        temp = smear[smear['log10(E_nu/GeV)_min'] == i]\n",
    "        angerr_smear_max.append(temp[temp['Dec_nu_min[deg]'] == j]['AngErr_max[deg]'].max())\n",
    "        angerr_smear_min.append(temp[temp['Dec_nu_min[deg]'] == j]['AngErr_min[deg]'].min())\n",
    "        \n",
    "    angerr_smear_max_DICT[i] = angerr_smear_max\n",
    "    angerr_smear_min_DICT[i] = angerr_smear_min"
   ]
  },
  {
   "cell_type": "code",
   "execution_count": 2,
   "metadata": {},
   "outputs": [],
   "source": [
    "season = 0\n",
    "nbins = 15\n",
    "enus = np.logspace(11.001, 18.999, int(nbins))\n",
    "enus_bin_indices = np.zeros(len(enus), dtype=np.int64)\n",
    "\n",
    "for i in prange(len(enus)):\n",
    "    enus_bin_indices[i] = np.digitize(enus[i], e_nu_wall) - 1\n",
    "msdec_bin_indices = np.zeros(p, dtype=np.int64)\n",
    "for i in prange(p):\n",
    "    msdec_bin_indices[i] = np.digitize(msdec[i], dec_nu) - 1\n",
    "\n",
    "for i in prange(len(enus)):\n",
    "    enus_bin_indices[i] = np.digitize(enus[i], e_nu_wall) - 1\n",
    "gamma_arr = [-2, -2.2, -2.53, -3]\n",
    "phio = np.logspace(-38, -26, 1000) #CHANGING TO LINEAR BINS RESULTS IN STRAIGHT LINES"
   ]
  },
  {
   "cell_type": "code",
   "execution_count": 3,
   "metadata": {},
   "outputs": [],
   "source": [
    "syn_nu_choice = np.random.randint(0, p, 50) #Choose 50 random pulsars from the 3389 pulsars\n",
    "syn_nudec_bin = msdec_bin_indices[syn_nu_choice] #Find the declination bin of the chosen pulsars to be allocated for the synthetic neutrinos\n",
    "syn_nu_ra = msra[syn_nu_choice] #Find the right ascension of the chosen pulsars to be allocated for the synthetic neutrinos\n",
    "syn_nu_dec = msdec[syn_nu_choice] #Find the declination of the chosen pulsars to be allocated for the synthetic neutrinos\n",
    "phio_const = 4.98 * (10**(-27)) #GeV-1 to ev-1 conversion factor\n",
    "filenames = [\"IC40_exp.csv\", \"IC59_exp.csv\",\"IC79_exp.csv\", \"IC86_I_exp.csv\", \"IC86_II_exp.csv\",\n",
    "        \"IC86_III_exp.csv\", \"IC86_IV_exp.csv\", \"IC86_V_exp.csv\", \"IC86_VI_exp.csv\", \"IC86_VII_exp.csv\"]"
   ]
  },
  {
   "cell_type": "markdown",
   "metadata": {},
   "source": [
    "i=0\n",
    "j=40\n",
    "N_nu_k = t_upt[season] * earea[season][syn_nudec_bin[j] * 40 + enus_bin_indices[i]] * enus[i] * phio_const * ((enus[i] / 10**14) ** gamma_arr[2])"
   ]
  },
  {
   "cell_type": "code",
   "execution_count": 11,
   "metadata": {},
   "outputs": [
    {
     "name": "stdout",
     "output_type": "stream",
     "text": [
      "38496 1421 36900 1596 1596\n",
      "109906 2693 107011 2895 2895\n",
      "96657 3309 93133 3524 3524\n",
      "140515 4012 136244 4271 4271\n",
      "116979 3905 112858 4121 4121\n",
      "126788 4029 122541 4247 4247\n",
      "131525 4259 127045 4480 4480\n",
      "133671 4142 129311 4360 4360\n",
      "127688 3815 123657 4031 4031\n",
      "150399 4428 145750 4649 4649\n"
     ]
    }
   ],
   "source": [
    "\n",
    "# syn_nu_dec = []\n",
    "syn_N_nu = 0   # No.of neutrinos generated per season per energy bin per declination bin\n",
    "for season_i in range(10):\n",
    "    icdata_k = pd.read_csv(\"./o_data/icecube_10year_ps/events/\" + filenames[season_i], sep=\"\\s+\", comment=\"#\", names=\"MJD[days]\tlog10(E/GeV)\tAngErr[deg]\tRA[deg]\tDec[deg]\tAzimuth[deg]\tZenith[deg]\".split(\"\\t\"), dtype=float)\n",
    "    min_ang_err_k = min(icdata_k['AngErr[deg]'])\n",
    "    max_ang_err_k = max(icdata_k['AngErr[deg]'])\n",
    "    syn_N_nu_sing_season = 0\n",
    "    c= 0\n",
    "    for i in range(len(enus)):    \n",
    "    \n",
    "        # apt = 0\n",
    "        for j in range(len(syn_nudec_bin)):\n",
    "            n_nu_temp = t_upt[season_i] * earea[ea_season(season_i)][syn_nudec_bin[j] * 40 + enus_bin_indices[i]] * enus[i] * phio_const * ((enus[i] / 10**14) ** gamma_arr[2])\n",
    "            #n_nu_temp neutrinos are generated in this season, in this energy bin, in this declination bin\n",
    "            n_nu_i = 0\n",
    "            for n_nu_i in range(int(np.round(n_nu_temp, 0))):\n",
    "                \n",
    "                \n",
    "                tempp = pd.DataFrame([-1, -1, np.random.uniform(0.2, 15), msra[syn_nu_choice[j]], msdec[syn_nu_choice[j]], -1, -1]).T\n",
    "                tempp.columns = \"MJD[days]\tlog10(E/GeV)\tAngErr[deg]\tRA[deg]\tDec[deg]\tAzimuth[deg]\tZenith[deg]\".split(\"\\t\")\n",
    "                icdata_k = pd.concat([icdata_k, tempp], ignore_index=True )\n",
    "                c+=1\n",
    "            # apt+=(n_nu_temp)\n",
    "            syn_N_nu_sing_season+=n_nu_i\n",
    "            \n",
    "            \n",
    "            \n",
    "            \n",
    "        # syn_N_nu_sing_season+=apt\n",
    "    # icdata_k.to_csv(\"./data/icecube_10year_ps/events/\" + filenames[season_i], sep=\"\\t\", index=False)\n",
    "    print(len(icdata_k.index), syn_N_nu_sing_season, icwidths[season_i + 1], c, len(icdata_k.index) - icwidths[season_i + 1])    \n",
    "    syn_N_nu += syn_N_nu_sing_season"
   ]
  },
  {
   "cell_type": "code",
   "execution_count": 12,
   "metadata": {},
   "outputs": [
    {
     "data": {
      "text/html": [
       "<div>\n",
       "<style scoped>\n",
       "    .dataframe tbody tr th:only-of-type {\n",
       "        vertical-align: middle;\n",
       "    }\n",
       "\n",
       "    .dataframe tbody tr th {\n",
       "        vertical-align: top;\n",
       "    }\n",
       "\n",
       "    .dataframe thead th {\n",
       "        text-align: right;\n",
       "    }\n",
       "</style>\n",
       "<table border=\"1\" class=\"dataframe\">\n",
       "  <thead>\n",
       "    <tr style=\"text-align: right;\">\n",
       "      <th></th>\n",
       "      <th>MJD[days]</th>\n",
       "      <th>log10(E/GeV)</th>\n",
       "      <th>AngErr[deg]</th>\n",
       "      <th>RA[deg]</th>\n",
       "      <th>Dec[deg]</th>\n",
       "      <th>Azimuth[deg]</th>\n",
       "      <th>Zenith[deg]</th>\n",
       "    </tr>\n",
       "  </thead>\n",
       "  <tbody>\n",
       "    <tr>\n",
       "      <th>0</th>\n",
       "      <td>57891.176944</td>\n",
       "      <td>2.90</td>\n",
       "      <td>0.890000</td>\n",
       "      <td>343.245000</td>\n",
       "      <td>13.768000</td>\n",
       "      <td>46.287</td>\n",
       "      <td>103.860</td>\n",
       "    </tr>\n",
       "    <tr>\n",
       "      <th>1</th>\n",
       "      <td>57891.180951</td>\n",
       "      <td>3.13</td>\n",
       "      <td>0.350000</td>\n",
       "      <td>127.003000</td>\n",
       "      <td>35.576000</td>\n",
       "      <td>263.912</td>\n",
       "      <td>125.521</td>\n",
       "    </tr>\n",
       "    <tr>\n",
       "      <th>2</th>\n",
       "      <td>57891.188775</td>\n",
       "      <td>4.70</td>\n",
       "      <td>0.200000</td>\n",
       "      <td>216.473000</td>\n",
       "      <td>-23.266000</td>\n",
       "      <td>177.292</td>\n",
       "      <td>66.652</td>\n",
       "    </tr>\n",
       "    <tr>\n",
       "      <th>3</th>\n",
       "      <td>57891.195600</td>\n",
       "      <td>3.02</td>\n",
       "      <td>3.260000</td>\n",
       "      <td>176.624000</td>\n",
       "      <td>31.430000</td>\n",
       "      <td>219.626</td>\n",
       "      <td>121.334</td>\n",
       "    </tr>\n",
       "    <tr>\n",
       "      <th>4</th>\n",
       "      <td>57891.195746</td>\n",
       "      <td>3.26</td>\n",
       "      <td>0.380000</td>\n",
       "      <td>42.288000</td>\n",
       "      <td>4.950000</td>\n",
       "      <td>354.022</td>\n",
       "      <td>95.023</td>\n",
       "    </tr>\n",
       "    <tr>\n",
       "      <th>...</th>\n",
       "      <td>...</td>\n",
       "      <td>...</td>\n",
       "      <td>...</td>\n",
       "      <td>...</td>\n",
       "      <td>...</td>\n",
       "      <td>...</td>\n",
       "      <td>...</td>\n",
       "    </tr>\n",
       "    <tr>\n",
       "      <th>150394</th>\n",
       "      <td>-1.000000</td>\n",
       "      <td>-1.00</td>\n",
       "      <td>11.994025</td>\n",
       "      <td>284.110833</td>\n",
       "      <td>4.073889</td>\n",
       "      <td>-1.000</td>\n",
       "      <td>-1.000</td>\n",
       "    </tr>\n",
       "    <tr>\n",
       "      <th>150395</th>\n",
       "      <td>-1.000000</td>\n",
       "      <td>-1.00</td>\n",
       "      <td>4.482297</td>\n",
       "      <td>284.900000</td>\n",
       "      <td>3.216667</td>\n",
       "      <td>-1.000</td>\n",
       "      <td>-1.000</td>\n",
       "    </tr>\n",
       "    <tr>\n",
       "      <th>150396</th>\n",
       "      <td>-1.000000</td>\n",
       "      <td>-1.00</td>\n",
       "      <td>2.549661</td>\n",
       "      <td>254.287917</td>\n",
       "      <td>-4.100278</td>\n",
       "      <td>-1.000</td>\n",
       "      <td>-1.000</td>\n",
       "    </tr>\n",
       "    <tr>\n",
       "      <th>150397</th>\n",
       "      <td>-1.000000</td>\n",
       "      <td>-1.00</td>\n",
       "      <td>9.299683</td>\n",
       "      <td>161.250000</td>\n",
       "      <td>-4.000000</td>\n",
       "      <td>-1.000</td>\n",
       "      <td>-1.000</td>\n",
       "    </tr>\n",
       "    <tr>\n",
       "      <th>150398</th>\n",
       "      <td>-1.000000</td>\n",
       "      <td>-1.00</td>\n",
       "      <td>4.464873</td>\n",
       "      <td>229.638333</td>\n",
       "      <td>2.081111</td>\n",
       "      <td>-1.000</td>\n",
       "      <td>-1.000</td>\n",
       "    </tr>\n",
       "  </tbody>\n",
       "</table>\n",
       "<p>150399 rows × 7 columns</p>\n",
       "</div>"
      ],
      "text/plain": [
       "           MJD[days]  log10(E/GeV)  AngErr[deg]     RA[deg]   Dec[deg]   \n",
       "0       57891.176944          2.90     0.890000  343.245000  13.768000  \\\n",
       "1       57891.180951          3.13     0.350000  127.003000  35.576000   \n",
       "2       57891.188775          4.70     0.200000  216.473000 -23.266000   \n",
       "3       57891.195600          3.02     3.260000  176.624000  31.430000   \n",
       "4       57891.195746          3.26     0.380000   42.288000   4.950000   \n",
       "...              ...           ...          ...         ...        ...   \n",
       "150394     -1.000000         -1.00    11.994025  284.110833   4.073889   \n",
       "150395     -1.000000         -1.00     4.482297  284.900000   3.216667   \n",
       "150396     -1.000000         -1.00     2.549661  254.287917  -4.100278   \n",
       "150397     -1.000000         -1.00     9.299683  161.250000  -4.000000   \n",
       "150398     -1.000000         -1.00     4.464873  229.638333   2.081111   \n",
       "\n",
       "        Azimuth[deg]  Zenith[deg]  \n",
       "0             46.287      103.860  \n",
       "1            263.912      125.521  \n",
       "2            177.292       66.652  \n",
       "3            219.626      121.334  \n",
       "4            354.022       95.023  \n",
       "...              ...          ...  \n",
       "150394        -1.000       -1.000  \n",
       "150395        -1.000       -1.000  \n",
       "150396        -1.000       -1.000  \n",
       "150397        -1.000       -1.000  \n",
       "150398        -1.000       -1.000  \n",
       "\n",
       "[150399 rows x 7 columns]"
      ]
     },
     "execution_count": 12,
     "metadata": {},
     "output_type": "execute_result"
    }
   ],
   "source": [
    "icdata_k"
   ]
  },
  {
   "cell_type": "code",
   "execution_count": 1,
   "metadata": {},
   "outputs": [],
   "source": [
    "import sys"
   ]
  },
  {
   "cell_type": "code",
   "execution_count": 14,
   "metadata": {},
   "outputs": [
    {
     "ename": "TypeError",
     "evalue": "'list' object is not callable",
     "output_type": "error",
     "traceback": [
      "\u001b[0;31m---------------------------------------------------------------------------\u001b[0m",
      "\u001b[0;31mTypeError\u001b[0m                                 Traceback (most recent call last)",
      "Cell \u001b[0;32mIn[14], line 1\u001b[0m\n\u001b[0;32m----> 1\u001b[0m sys\u001b[39m.\u001b[39;49margv(\u001b[39m100\u001b[39;49m)\n\u001b[1;32m      2\u001b[0m exec(\u001b[39mopen\u001b[39m(\u001b[39m\"\u001b[39m\u001b[39m./task4s_sim_preprocess.py\u001b[39m\u001b[39m\"\u001b[39m)\u001b[39m.\u001b[39mread())\n",
      "\u001b[0;31mTypeError\u001b[0m: 'list' object is not callable"
     ]
    }
   ],
   "source": [
    "sys.argv(100)\n",
    "exec(open(\"./task4s_sim_preprocess.py\").read())"
   ]
  },
  {
   "cell_type": "code",
   "execution_count": 15,
   "metadata": {},
   "outputs": [
    {
     "name": "stdout",
     "output_type": "stream",
     "text": [
      "['/home/darkwake/.local/lib/python3.10/site-packages/ipykernel_launcher.py', '--ip=127.0.0.1', '--stdin=9003', '--control=9001', '--hb=9000', '--Session.signature_scheme=\"hmac-sha256\"', '--Session.key=b\"42cde5c8-2510-414d-84cd-b3d9b18ca51d\"', '--shell=9002', '--transport=\"tcp\"', '--iopub=9004', '--f=/home/darkwake/.local/share/jupyter/runtime/kernel-v2-36252AXM633A8U5Yr.json']\n"
     ]
    }
   ],
   "source": [
    "print(sys.argv)"
   ]
  },
  {
   "cell_type": "code",
   "execution_count": 16,
   "metadata": {},
   "outputs": [],
   "source": [
    "import subprocess"
   ]
  },
  {
   "cell_type": "code",
   "execution_count": null,
   "metadata": {},
   "outputs": [],
   "source": [
    "subprocess.call([sys.executable, 'task4s_sim_preprocess.py', '-nb', '100'])"
   ]
  },
  {
   "cell_type": "code",
   "execution_count": 2,
   "metadata": {},
   "outputs": [
    {
     "data": {
      "text/plain": [
       "'/home/darkwake/anaconda3/bin/python'"
      ]
     },
     "execution_count": 2,
     "metadata": {},
     "output_type": "execute_result"
    }
   ],
   "source": [
    "sys.executable"
   ]
  },
  {
   "cell_type": "code",
   "execution_count": null,
   "metadata": {},
   "outputs": [],
   "source": []
  }
 ],
 "metadata": {
  "kernelspec": {
   "display_name": "Python 3",
   "language": "python",
   "name": "python3"
  },
  "language_info": {
   "codemirror_mode": {
    "name": "ipython",
    "version": 3
   },
   "file_extension": ".py",
   "mimetype": "text/x-python",
   "name": "python",
   "nbconvert_exporter": "python",
   "pygments_lexer": "ipython3",
   "version": "3.10.12"
  },
  "orig_nbformat": 4
 },
 "nbformat": 4,
 "nbformat_minor": 2
}
